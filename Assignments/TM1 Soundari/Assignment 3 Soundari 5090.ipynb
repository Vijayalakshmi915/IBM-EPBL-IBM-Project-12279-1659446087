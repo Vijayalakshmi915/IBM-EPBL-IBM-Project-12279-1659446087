{
  "nbformat": 4,
  "nbformat_minor": 0,
  "metadata": {
    "colab": {
      "provenance": []
    },
    "kernelspec": {
      "name": "python3",
      "display_name": "Python 3"
    },
    "language_info": {
      "name": "python"
    }
  },
  "cells": [
    {
      "cell_type": "markdown",
      "source": [
        "** Assignment 3 **"
      ],
      "metadata": {
        "id": "gAxpPDupxfvv"
      }
    },
    {
      "cell_type": "code",
      "execution_count": 3,
      "metadata": {
        "id": "yLbdhFt4xTCT"
      },
      "outputs": [],
      "source": [
        "from tensorflow.keras.models import Sequential\n",
        "from tensorflow.keras.layers import Convolution2D,MaxPooling2D,Flatten,Dense\n",
        "from tensorflow.keras.preprocessing.image import ImageDataGenerator as idm\n",
        "import numpy as np\n",
        "import warnings\n",
        "#Supressing warnings\n",
        "warnings.filterwarnings('ignore')"
      ]
    },
    {
      "cell_type": "code",
      "source": [
        "from google.colab import drive\n",
        "drive.mount('/content/drive')"
      ],
      "metadata": {
        "colab": {
          "base_uri": "https://localhost:8080/"
        },
        "id": "5P0tw6tZzhdd",
        "outputId": "5f2fe67e-a9d2-4114-9fdb-6c1535495c81"
      },
      "execution_count": 37,
      "outputs": [
        {
          "output_type": "stream",
          "name": "stdout",
          "text": [
            "Drive already mounted at /content/drive; to attempt to forcibly remount, call drive.mount(\"/content/drive\", force_remount=True).\n"
          ]
        }
      ]
    },
    {
      "cell_type": "code",
      "source": [
        "# Creating augmentation on training variable\n",
        "train_flowers=idm(rescale=1./255,zoom_range=0.2,horizontal_flip=True)\n",
        "\n",
        "# Passing training data to train variable\n",
        "Xtrain = train_flowers.flow_from_directory('/content/drive/MyDrive/flower/Train',target_size=(76,76),class_mode='categorical',batch_size=100)"
      ],
      "metadata": {
        "colab": {
          "base_uri": "https://localhost:8080/"
        },
        "id": "CW-5tenCxyY8",
        "outputId": "605f1de7-4c82-4ef9-8692-478cc4fca73c"
      },
      "execution_count": 52,
      "outputs": [
        {
          "output_type": "stream",
          "name": "stdout",
          "text": [
            "Found 3308 images belonging to 5 classes.\n"
          ]
        }
      ]
    },
    {
      "cell_type": "code",
      "source": [
        "# Creating augmentation on testing variable\n",
        "test_flowers=idm(rescale=1./255)\n",
        "\n",
        "# Passing testing data to test variable\n",
        "Xtest = test_flowers.flow_from_directory('/content/drive/MyDrive/flower/Test',target_size=(76,76),class_mode='categorical',batch_size=100)\n"
      ],
      "metadata": {
        "colab": {
          "base_uri": "https://localhost:8080/"
        },
        "id": "3C4TTnbnhNjm",
        "outputId": "f87f43ee-2251-4f3b-a96e-b2a5c8f72c09"
      },
      "execution_count": 55,
      "outputs": [
        {
          "output_type": "stream",
          "name": "stdout",
          "text": [
            "Found 573 images belonging to 5 classes.\n"
          ]
        }
      ]
    },
    {
      "cell_type": "code",
      "source": [
        "Flower_model = Sequential()\n",
        "Flower_model.add(Convolution2D(32,(3,3),activation='relu',input_shape=(76,76,3)))\n",
        "Flower_model.add(MaxPooling2D(pool_size=(2,2)))\n",
        "Flower_model.add(Flatten())\n",
        "Flower_model.add(Dense(300,activation='relu'))\n",
        "Flower_model.add(Dense(150,activation='relu'))\n",
        "Flower_model.add(Dense(5,activation='softmax'))"
      ],
      "metadata": {
        "id": "k9wssZ_9hmkG"
      },
      "execution_count": 56,
      "outputs": []
    },
    {
      "cell_type": "code",
      "source": [
        "Flower_model.compile(optimizer='adam',loss='categorical_crossentropy',metrics=['accuracy'])"
      ],
      "metadata": {
        "id": "A7gxhjcEhrzb"
      },
      "execution_count": 57,
      "outputs": []
    },
    {
      "cell_type": "code",
      "source": [
        "Flower_model.fit_generator(Xtrain,steps_per_epoch= len (Xtrain),epochs= 8,validation_data=Xtest,validation_steps= len (Xtest))"
      ],
      "metadata": {
        "colab": {
          "base_uri": "https://localhost:8080/"
        },
        "id": "Qp5zuKozhr2W",
        "outputId": "f02fbda3-4085-4acc-bb14-877e70d82f8b"
      },
      "execution_count": 58,
      "outputs": [
        {
          "output_type": "stream",
          "name": "stdout",
          "text": [
            "Epoch 1/8\n",
            "34/34 [==============================] - 38s 1s/step - loss: 1.7519 - accuracy: 0.3637 - val_loss: 1.3037 - val_accuracy: 0.4503\n",
            "Epoch 2/8\n",
            "34/34 [==============================] - 38s 1s/step - loss: 1.1124 - accuracy: 0.5611 - val_loss: 1.2834 - val_accuracy: 0.4695\n",
            "Epoch 3/8\n",
            "34/34 [==============================] - 38s 1s/step - loss: 1.0209 - accuracy: 0.6004 - val_loss: 1.1725 - val_accuracy: 0.5323\n",
            "Epoch 4/8\n",
            "34/34 [==============================] - 36s 1s/step - loss: 0.9363 - accuracy: 0.6463 - val_loss: 1.1455 - val_accuracy: 0.5445\n",
            "Epoch 5/8\n",
            "34/34 [==============================] - 36s 1s/step - loss: 0.8934 - accuracy: 0.6578 - val_loss: 1.1712 - val_accuracy: 0.5689\n",
            "Epoch 6/8\n",
            "34/34 [==============================] - 39s 1s/step - loss: 0.8147 - accuracy: 0.6914 - val_loss: 1.1752 - val_accuracy: 0.5480\n",
            "Epoch 7/8\n",
            "34/34 [==============================] - 37s 1s/step - loss: 0.7679 - accuracy: 0.7177 - val_loss: 1.2467 - val_accuracy: 0.5497\n",
            "Epoch 8/8\n",
            "34/34 [==============================] - 36s 1s/step - loss: 0.7265 - accuracy: 0.7352 - val_loss: 1.1668 - val_accuracy: 0.5881\n"
          ]
        },
        {
          "output_type": "execute_result",
          "data": {
            "text/plain": [
              "<keras.callbacks.History at 0x7fa56bef3590>"
            ]
          },
          "metadata": {},
          "execution_count": 58
        }
      ]
    },
    {
      "cell_type": "code",
      "source": [
        "Flower_model.save('Flower.h5')"
      ],
      "metadata": {
        "id": "kAbbh8ajhr44"
      },
      "execution_count": 59,
      "outputs": []
    },
    {
      "cell_type": "code",
      "source": [
        "from tensorflow.keras.preprocessing import image"
      ],
      "metadata": {
        "id": "5XIm-Wn6h5SV"
      },
      "execution_count": 60,
      "outputs": []
    },
    {
      "cell_type": "code",
      "source": [
        "test_img=image.load_img('/content/drive/MyDrive/flower/Train/rose/110472418_87b6a3aa98_m.jpg',target_size=(76,76))\n",
        "test_img"
      ],
      "metadata": {
        "colab": {
          "base_uri": "https://localhost:8080/",
          "height": 93
        },
        "id": "B6fGQ0XOh-XI",
        "outputId": "eabeed35-c07d-4f02-a919-336adb514dec"
      },
      "execution_count": 61,
      "outputs": [
        {
          "output_type": "execute_result",
          "data": {
            "text/plain": [
              "<PIL.Image.Image image mode=RGB size=76x76 at 0x7FA56BD109D0>"
            ],
            "image/png": "[encoded data removed]"
          },
          "metadata": {},
          "execution_count": 61
        }
      ]
    },
    {
      "cell_type": "code",
      "source": [
        "x=image.img_to_array(test_img)\n",
        "x=np.expand_dims(x,axis=0)\n",
        "predicted=np.argmax(Flower_model.predict(x))\n",
        "Prediction_category=['daisy','dandelion','rose','sunflower','tulip']\n",
        "Prediction_category[predicted]"
      ],
      "metadata": {
        "colab": {
          "base_uri": "https://localhost:8080/",
          "height": 35
        },
        "id": "C2J4Pu0QjBzh",
        "outputId": "8d463ba4-e6dd-40f2-e375-0774909f1d9f"
      },
      "execution_count": 62,
      "outputs": [
        {
          "output_type": "execute_result",
          "data": {
            "text/plain": [
              "'rose'"
            ],
            "application/vnd.google.colaboratory.intrinsic+json": {
              "type": "string"
            }
          },
          "metadata": {},
          "execution_count": 62
        }
      ]
    },
    {
      "cell_type": "code",
      "source": [
        "test_img1=image.load_img('/content/drive/MyDrive/flower/Vaidate/dandelion/29556932571_f124d8ac5d_n.jpg',target_size=(76,76))\n",
        "test_img1"
      ],
      "metadata": {
        "colab": {
          "base_uri": "https://localhost:8080/",
          "height": 93
        },
        "id": "KmRVQYw0jGCI",
        "outputId": "f0093d1e-b89a-42a5-a864-889fb9a1e7bc"
      },
      "execution_count": 70,
      "outputs": [
        {
          "output_type": "execute_result",
          "data": {
            "text/plain": [
              "<PIL.Image.Image image mode=RGB size=76x76 at 0x7FA56BCD2AD0>"
            ],
            "image/png": "[encoded data removed]"
          },
          "metadata": {},
          "execution_count": 70
        }
      ]
    },
    {
      "cell_type": "code",
      "source": [
        "x=image.img_to_array(test_img1)\n",
        "x=np.expand_dims(x,axis=0)\n",
        "predicted=np.argmax(Flower_model.predict(x))\n",
        "Prediction_category[predicted]"
      ],
      "metadata": {
        "colab": {
          "base_uri": "https://localhost:8080/",
          "height": 35
        },
        "id": "Pfs4s-eejP9L",
        "outputId": "bf9716c9-aaa9-4085-a0aa-016c033241b5"
      },
      "execution_count": 71,
      "outputs": [
        {
          "output_type": "execute_result",
          "data": {
            "text/plain": [
              "'dandelion'"
            ],
            "application/vnd.google.colaboratory.intrinsic+json": {
              "type": "string"
            }
          },
          "metadata": {},
          "execution_count": 71
        }
      ]
    },
    {
      "cell_type": "code",
      "source": [
        "test_img2=image.load_img('/content/drive/MyDrive/flower/Vaidate/tulip/17189526216_fa24dd541a_n.jpg',target_size=(76,76))\n",
        "test_img2"
      ],
      "metadata": {
        "colab": {
          "base_uri": "https://localhost:8080/",
          "height": 93
        },
        "id": "pAJDOEhJjsZI",
        "outputId": "d780409b-97b8-4367-964d-ba27157dadb2"
      },
      "execution_count": 73,
      "outputs": [
        {
          "output_type": "execute_result",
          "data": {
            "text/plain": [
              "<PIL.Image.Image image mode=RGB size=76x76 at 0x7FA56BCE5110>"
            ],
            "image/png": "[encoded data removed]"
          },
          "metadata": {},
          "execution_count": 73
        }
      ]
    },
    {
      "cell_type": "code",
      "source": [
        "x=image.img_to_array(test_img2)\n",
        "x=np.expand_dims(x,axis=0)\n",
        "predicted=np.argmax(Flower_model.predict(x))\n",
        "Prediction_category[predicted]"
      ],
      "metadata": {
        "colab": {
          "base_uri": "https://localhost:8080/",
          "height": 35
        },
        "id": "yg9u8luFj65d",
        "outputId": "14e08d36-2a13-4fdf-865c-7fe31d85c2a0"
      },
      "execution_count": 74,
      "outputs": [
        {
          "output_type": "execute_result",
          "data": {
            "text/plain": [
              "'tulip'"
            ],
            "application/vnd.google.colaboratory.intrinsic+json": {
              "type": "string"
            }
          },
          "metadata": {},
          "execution_count": 74
        }
      ]
    }
  ]
}